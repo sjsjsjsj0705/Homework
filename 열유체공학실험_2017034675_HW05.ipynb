{
  "nbformat": 4,
  "nbformat_minor": 0,
  "metadata": {
    "colab": {
      "name": "열유체공학실험-2017034675-HW05",
      "provenance": [],
      "include_colab_link": true
    },
    "kernelspec": {
      "name": "python3",
      "display_name": "Python 3"
    }
  },
  "cells": [
    {
      "cell_type": "markdown",
      "metadata": {
        "id": "view-in-github",
        "colab_type": "text"
      },
      "source": [
        "<a href=\"https://colab.research.google.com/github/sjsjsjsj0705/Homework/blob/master/%EC%97%B4%EC%9C%A0%EC%B2%B4%EA%B3%B5%ED%95%99%EC%8B%A4%ED%97%98_2017034675_HW05.ipynb\" target=\"_parent\"><img src=\"https://colab.research.google.com/assets/colab-badge.svg\" alt=\"Open In Colab\"/></a>"
      ]
    },
    {
      "cell_type": "code",
      "metadata": {
        "id": "crO8ddAN6hSf",
        "colab_type": "code",
        "colab": {}
      },
      "source": [
        "def homework05():\n",
        "    theta = 2 * np.pi * np.random.random(1000)\n",
        "    r = 6 * np.random.random(1000)\n",
        "    x = np.ravel(r * np.sin(theta))\n",
        "    y = np.ravel(r * np.cos(theta))\n",
        "    z = np.exp(-0.1*x**2-0.1*y**2)\n",
        "    return x, y, z\n",
        "\n",
        "x, y, z = homework05()\n",
        "\n",
        "ax = plt.axes(projection='3d')\n",
        "# TODO\n",
        "# 아래 ax.plot_trisurf 함수 내부 인자를 완성하시오.\n",
        "ax.plot_trisurf(x, y, z,cmap='viridis', edgecolor='none');\n",
        "ax.set_xlim(-5, 5); ax.set_ylim(-5, 5); ax.set_zlim(0, 1);"
      ],
      "execution_count": 0,
      "outputs": []
    }
  ]
}