{
  "nbformat": 4,
  "nbformat_minor": 0,
  "metadata": {
    "colab": {
      "name": "열유체공학실험-2017034675-HW02",
      "version": "0.3.2",
      "provenance": [],
      "collapsed_sections": [],
      "include_colab_link": true
    },
    "kernelspec": {
      "name": "python3",
      "display_name": "Python 3"
    }
  },
  "cells": [
    {
      "cell_type": "markdown",
      "metadata": {
        "id": "view-in-github",
        "colab_type": "text"
      },
      "source": [
        "<a href=\"https://colab.research.google.com/github/sjsjsjsj0705/Homework/blob/master/%EC%97%B4%EC%9C%A0%EC%B2%B4%EA%B3%B5%ED%95%99%EC%8B%A4%ED%97%98_2017034675_HW02.ipynb\" target=\"_parent\"><img src=\"https://colab.research.google.com/assets/colab-badge.svg\" alt=\"Open In Colab\"/></a>"
      ]
    },
    {
      "cell_type": "code",
      "metadata": {
        "id": "QNwu145vTvDl",
        "colab_type": "code",
        "colab": {
          "base_uri": "https://localhost:8080/",
          "height": 193
        },
        "outputId": "bc80c469-8517-4afa-baf8-da6e7b6a8c9f"
      },
      "source": [
        "#구구단을 출력하는 함수\n",
        "num=int(input())\n",
        "for i in range (1,10):\n",
        "    print(num,\"*\",i,\"=\",num)"
      ],
      "execution_count": 2,
      "outputs": [
        {
          "output_type": "stream",
          "text": [
            "8\n",
            "8 * 1 = 8\n",
            "8 * 2 = 8\n",
            "8 * 3 = 8\n",
            "8 * 4 = 8\n",
            "8 * 5 = 8\n",
            "8 * 6 = 8\n",
            "8 * 7 = 8\n",
            "8 * 8 = 8\n",
            "8 * 9 = 8\n"
          ],
          "name": "stdout"
        }
      ]
    }
  ]
}